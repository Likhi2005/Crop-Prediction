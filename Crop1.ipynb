{
  "nbformat": 4,
  "nbformat_minor": 0,
  "metadata": {
    "colab": {
      "provenance": [],
      "authorship_tag": "ABX9TyNUF9ddx5N7UwGbQSK7niq5",
      "include_colab_link": true
    },
    "kernelspec": {
      "name": "python3",
      "display_name": "Python 3"
    },
    "language_info": {
      "name": "python"
    }
  },
  "cells": [
    {
      "cell_type": "markdown",
      "metadata": {
        "id": "view-in-github",
        "colab_type": "text"
      },
      "source": [
        "<a href=\"https://colab.research.google.com/github/Likhi2005/Crop-Prediction/blob/main/Crop1.ipynb\" target=\"_parent\"><img src=\"https://colab.research.google.com/assets/colab-badge.svg\" alt=\"Open In Colab\"/></a>"
      ]
    },
    {
      "cell_type": "code",
      "execution_count": null,
      "metadata": {
        "colab": {
          "base_uri": "https://localhost:8080/"
        },
        "id": "1c-N69yXnv37",
        "outputId": "2cd7ae23-b7ba-4bee-9896-3d826bc1ef07"
      },
      "outputs": [
        {
          "output_type": "stream",
          "name": "stdout",
          "text": [
            "Using Colab cache for faster access to the 'crop-recommendation-dataset' dataset.\n",
            "Path to dataset files: /kaggle/input/crop-recommendation-dataset\n"
          ]
        }
      ],
      "source": [
        "import kagglehub\n",
        "\n",
        "# Download latest version\n",
        "path = kagglehub.dataset_download(\"atharvaingle/crop-recommendation-dataset\")\n",
        "\n",
        "print(\"Path to dataset files:\", path)"
      ]
    },
    {
      "cell_type": "code",
      "source": [
        "# =============================\n",
        "# Step 1: Import Libraries\n",
        "# =============================\n",
        "import pandas as pd\n",
        "import numpy as np\n",
        "import matplotlib.pyplot as plt\n",
        "import seaborn as sns\n",
        "\n",
        "from sklearn.model_selection import train_test_split\n",
        "from sklearn.preprocessing import LabelEncoder\n",
        "from sklearn.ensemble import RandomForestClassifier\n",
        "from sklearn.metrics import classification_report, accuracy_score\n",
        "import joblib\n",
        "\n",
        "# =============================\n",
        "# Step 2: Load Dataset\n",
        "# =============================\n",
        "data = pd.read_csv(\"/kaggle/input/crop-recommendation-dataset/Crop_recommendation.csv\")\n",
        "\n",
        "print(\"Dataset Shape:\", data.shape)\n",
        "print(\"\\nFirst 5 rows:\")\n",
        "print(data.head())\n",
        "\n",
        "# =============================\n",
        "# Step 3: Data Exploration\n",
        "# =============================\n",
        "print(\"\\nDataset Info:\")\n",
        "print(data.info())\n",
        "print(\"\\nMissing values:\\n\", data.isnull().sum())\n",
        "\n",
        "# Crop distribution\n",
        "plt.figure(figsize=(10,5))\n",
        "sns.countplot(y=data['label'], order=data['label'].value_counts().index)\n",
        "plt.title(\"Crop Distribution\")\n",
        "plt.show()\n",
        "\n",
        "# =============================\n",
        "# Step 4: Encode Target (Crop Labels)\n",
        "# =============================\n",
        "le = LabelEncoder()\n",
        "data['label_encoded'] = le.fit_transform(data['label'])\n",
        "\n",
        "print(\"Unique Crops:\", le.classes_)\n",
        "\n",
        "# =============================\n",
        "# Step 5: Split Dataset\n",
        "# =============================\n",
        "X = data.drop(['label', 'label_encoded'], axis=1)\n",
        "y = data['label_encoded']\n",
        "\n",
        "X_train, X_test, y_train, y_test = train_test_split(\n",
        "    X, y, test_size=0.2, random_state=42, stratify=y\n",
        ")\n",
        "\n",
        "print(\"Train size:\", X_train.shape)\n",
        "print(\"Test size:\", X_test.shape)\n",
        "\n",
        "# =============================\n",
        "# Step 6: Train Model\n",
        "# =============================\n",
        "model = RandomForestClassifier(n_estimators=200, random_state=42)\n",
        "model.fit(X_train, y_train)\n",
        "\n",
        "print(\"✅ Model training done\")\n",
        "\n",
        "# =============================\n",
        "# Step 7: Evaluate Model\n",
        "# =============================\n",
        "y_pred = model.predict(X_test)\n",
        "\n",
        "print(\"Accuracy:\", accuracy_score(y_test, y_pred))\n",
        "print(\"\\nClassification Report:\\n\", classification_report(y_test, y_pred, target_names=le.classes_))\n",
        "\n",
        "# =============================\n",
        "# Step 8: Prediction Function\n",
        "# =============================\n",
        "def predict_crop(N, P, K, temperature, humidity, ph, rainfall, field_area=5, previous_yield=3.5, irrigation_system=\"Drip\"):\n",
        "    \"\"\"\n",
        "    Predict recommended crop, yield, and irrigation requirement.\n",
        "    \"\"\"\n",
        "    # Crop prediction\n",
        "    features = np.array([[N, P, K, temperature, humidity, ph, rainfall]])\n",
        "    crop_code = model.predict(features)[0]\n",
        "    crop_name = le.inverse_transform([crop_code])[0]\n",
        "\n",
        "    # Simulated Yield Prediction (simple formula based on nutrients & rainfall)\n",
        "    yield_pred = round(previous_yield + (N+P+K)/300 + rainfall/2000 - temperature/100, 2)\n",
        "    total_yield = round(yield_pred * field_area, 2)\n",
        "\n",
        "    # Irrigation Requirement Estimation\n",
        "    water_need = {\n",
        "        \"Wheat\": 450,\n",
        "        \"Rice\": 1200,\n",
        "        \"Maize\": 500,\n",
        "        \"Sugarcane\": 1800,\n",
        "        \"Cotton\": 700\n",
        "    }\n",
        "    irrigation_need = water_need.get(crop_name, 600) - rainfall\n",
        "    irrigation_need = max(irrigation_need, 0)  # no negative irrigation\n",
        "\n",
        "    return {\n",
        "        \"Recommended Crop\": crop_name,\n",
        "        \"Expected Yield (tons/ha)\": yield_pred,\n",
        "        \"Total Yield (tons)\": total_yield,\n",
        "        \"Irrigation Needed (mm/year)\": irrigation_need,\n",
        "        \"Irrigation System\": irrigation_system\n",
        "    }\n",
        "\n",
        "# =============================\n",
        "# Step 9: Test Prediction\n",
        "# =============================\n",
        "result = predict_crop(\n",
        "    N=60, P=40, K=35,\n",
        "    temperature=25, humidity=80, ph=6.5, rainfall=800,\n",
        "    field_area=5, previous_yield=3.5, irrigation_system=\"Drip Irrigation\"\n",
        ")\n",
        "\n",
        "print(\"\\n🌾 Prediction Results:\")\n",
        "for key, value in result.items():\n",
        "    print(f\"{key}: {value}\")\n",
        "\n",
        "# =============================\n",
        "# Step 10: Save Model\n",
        "# =============================\n",
        "joblib.dump(model, \"crop_model.pkl\")\n",
        "joblib.dump(le, \"label_encoder.pkl\")\n",
        "\n",
        "print(\"✅ Model & Encoder saved\")\n"
      ],
      "metadata": {
        "colab": {
          "base_uri": "https://localhost:8080/",
          "height": 1000
        },
        "id": "kIkEKmUsn0ot",
        "outputId": "8e19be7b-498c-4e25-a533-fa681ee558cf"
      },
      "execution_count": null,
      "outputs": [
        {
          "output_type": "stream",
          "name": "stdout",
          "text": [
            "Dataset Shape: (2200, 8)\n",
            "\n",
            "First 5 rows:\n",
            "    N   P   K  temperature   humidity        ph    rainfall label\n",
            "0  90  42  43    20.879744  82.002744  6.502985  202.935536  rice\n",
            "1  85  58  41    21.770462  80.319644  7.038096  226.655537  rice\n",
            "2  60  55  44    23.004459  82.320763  7.840207  263.964248  rice\n",
            "3  74  35  40    26.491096  80.158363  6.980401  242.864034  rice\n",
            "4  78  42  42    20.130175  81.604873  7.628473  262.717340  rice\n",
            "\n",
            "Dataset Info:\n",
            "<class 'pandas.core.frame.DataFrame'>\n",
            "RangeIndex: 2200 entries, 0 to 2199\n",
            "Data columns (total 8 columns):\n",
            " #   Column       Non-Null Count  Dtype  \n",
            "---  ------       --------------  -----  \n",
            " 0   N            2200 non-null   int64  \n",
            " 1   P            2200 non-null   int64  \n",
            " 2   K            2200 non-null   int64  \n",
            " 3   temperature  2200 non-null   float64\n",
            " 4   humidity     2200 non-null   float64\n",
            " 5   ph           2200 non-null   float64\n",
            " 6   rainfall     2200 non-null   float64\n",
            " 7   label        2200 non-null   object \n",
            "dtypes: float64(4), int64(3), object(1)\n",
            "memory usage: 137.6+ KB\n",
            "None\n",
            "\n",
            "Missing values:\n",
            " N              0\n",
            "P              0\n",
            "K              0\n",
            "temperature    0\n",
            "humidity       0\n",
            "ph             0\n",
            "rainfall       0\n",
            "label          0\n",
            "dtype: int64\n"
          ]
        },
        {
          "output_type": "display_data",
          "data": {
            "text/plain": [
              "<Figure size 1000x500 with 1 Axes>"
            ],
            "image/png": "[encoded data removed]"
          },
          "metadata": {}
        },
        {
          "output_type": "stream",
          "name": "stdout",
          "text": [
            "Unique Crops: ['apple' 'banana' 'blackgram' 'chickpea' 'coconut' 'coffee' 'cotton'\n",
            " 'grapes' 'jute' 'kidneybeans' 'lentil' 'maize' 'mango' 'mothbeans'\n",
            " 'mungbean' 'muskmelon' 'orange' 'papaya' 'pigeonpeas' 'pomegranate'\n",
            " 'rice' 'watermelon']\n",
            "Train size: (1760, 7)\n",
            "Test size: (440, 7)\n",
            "✅ Model training done\n",
            "Accuracy: 0.9954545454545455\n",
            "\n",
            "Classification Report:\n",
            "               precision    recall  f1-score   support\n",
            "\n",
            "       apple       1.00      1.00      1.00        20\n",
            "      banana       1.00      1.00      1.00        20\n",
            "   blackgram       1.00      0.95      0.97        20\n",
            "    chickpea       1.00      1.00      1.00        20\n",
            "     coconut       1.00      1.00      1.00        20\n",
            "      coffee       1.00      1.00      1.00        20\n",
            "      cotton       1.00      1.00      1.00        20\n",
            "      grapes       1.00      1.00      1.00        20\n",
            "        jute       0.95      1.00      0.98        20\n",
            " kidneybeans       1.00      1.00      1.00        20\n",
            "      lentil       1.00      1.00      1.00        20\n",
            "       maize       0.95      1.00      0.98        20\n",
            "       mango       1.00      1.00      1.00        20\n",
            "   mothbeans       1.00      1.00      1.00        20\n",
            "    mungbean       1.00      1.00      1.00        20\n",
            "   muskmelon       1.00      1.00      1.00        20\n",
            "      orange       1.00      1.00      1.00        20\n",
            "      papaya       1.00      1.00      1.00        20\n",
            "  pigeonpeas       1.00      1.00      1.00        20\n",
            " pomegranate       1.00      1.00      1.00        20\n",
            "        rice       1.00      0.95      0.97        20\n",
            "  watermelon       1.00      1.00      1.00        20\n",
            "\n",
            "    accuracy                           1.00       440\n",
            "   macro avg       1.00      1.00      1.00       440\n",
            "weighted avg       1.00      1.00      1.00       440\n",
            "\n",
            "\n",
            "🌾 Prediction Results:\n",
            "Recommended Crop: rice\n",
            "Expected Yield (tons/ha): 4.1\n",
            "Total Yield (tons): 20.5\n",
            "Irrigation Needed (mm/year): 0\n",
            "Irrigation System: Drip Irrigation\n",
            "✅ Model & Encoder saved\n"
          ]
        },
        {
          "output_type": "stream",
          "name": "stderr",
          "text": [
            "/usr/local/lib/python3.12/dist-packages/sklearn/utils/validation.py:2739: UserWarning: X does not have valid feature names, but RandomForestClassifier was fitted with feature names\n",
            "  warnings.warn(\n"
          ]
        }
      ]
    },
    {
      "cell_type": "code",
      "source": [],
      "metadata": {
        "id": "9ocjPtTdn2OX"
      },
      "execution_count": null,
      "outputs": []
    }
  ]
}